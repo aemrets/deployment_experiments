{
 "cells": [
  {
   "cell_type": "code",
   "execution_count": 23,
   "metadata": {},
   "outputs": [],
   "source": [
    "# Necessary imports \n",
    "import numpy as np \n",
    "import pandas as pd \n",
    "import xgboost as xg \n",
    "from sklearn.model_selection import train_test_split \n",
    "from sklearn.metrics import mean_squared_error as MSE\n",
    "import pickle"
   ]
  },
  {
   "cell_type": "code",
   "execution_count": 24,
   "metadata": {},
   "outputs": [],
   "source": [
    "# # Load the data \n",
    "# dataset = pd.read_csv(\"data.csv\", sep=';') \n",
    "# X, y = dataset.iloc[:, :-1], dataset.iloc[:, -1] \n",
    "  \n",
    "# # Splitting \n",
    "# train_X, test_X, train_y, test_y = train_test_split(X, y, \n",
    "#                       test_size = 0.3, random_state = 123) \n",
    "  \n",
    "# # Instantiation \n",
    "# xgb_r = xg.XGBRegressor(objective ='reg:squarederror', seed = 123) \n",
    "  \n",
    "# # Fitting the model \n",
    "# xgb_r.fit(train_X, train_y) \n",
    "  \n",
    "# # Predict the model \n",
    "# pred = xgb_r.predict(test_X) \n",
    "  \n",
    "# # RMSE Computation \n",
    "# rmse = np.sqrt(MSE(test_y, pred)) \n",
    "# print(\"RMSE : % f\" %(rmse)) "
   ]
  },
  {
   "cell_type": "code",
   "execution_count": 25,
   "metadata": {},
   "outputs": [
    {
     "data": {
      "text/plain": [
       "(5.052424967288971e-07, 0.0007108041198029856)"
      ]
     },
     "execution_count": 25,
     "metadata": {},
     "output_type": "execute_result"
    }
   ],
   "source": [
    "xgb_model = xg.XGBRegressor(objective='reg:squarederror', random_state=42)\n",
    "xgb_model.fit(X, y)\n",
    "y_pred = xgb_model.predict(X)\n",
    "mse = MSE(y, y_pred)\n",
    "mse, np.sqrt(mse) "
   ]
  },
  {
   "cell_type": "code",
   "execution_count": 26,
   "metadata": {},
   "outputs": [],
   "source": [
    "with open('xgb_model.pkl', 'wb') as file:\n",
    "    pickle.dump(xgb_model, file)"
   ]
  },
  {
   "cell_type": "code",
   "execution_count": 41,
   "metadata": {},
   "outputs": [
    {
     "data": {
      "text/plain": [
       "array([150.00085], dtype=float32)"
      ]
     },
     "execution_count": 41,
     "metadata": {},
     "output_type": "execute_result"
    }
   ],
   "source": [
    "xgb_model.predict(np.array([[1, 2, 3]]))"
   ]
  }
 ],
 "metadata": {
  "kernelspec": {
   "display_name": "di501",
   "language": "python",
   "name": "python3"
  },
  "language_info": {
   "codemirror_mode": {
    "name": "ipython",
    "version": 3
   },
   "file_extension": ".py",
   "mimetype": "text/x-python",
   "name": "python",
   "nbconvert_exporter": "python",
   "pygments_lexer": "ipython3",
   "version": "3.11.4"
  }
 },
 "nbformat": 4,
 "nbformat_minor": 2
}
